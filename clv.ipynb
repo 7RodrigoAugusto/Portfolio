{
 "cells": [
  {
   "cell_type": "code",
   "execution_count": 1,
   "metadata": {
    "ExecuteTime": {
     "end_time": "2019-09-27T19:42:33.485569Z",
     "start_time": "2019-09-27T19:42:30.454417Z"
    }
   },
   "outputs": [],
   "source": [
    "# nbi:hide_in\n",
    "# nbi:hide_out\n",
    "import nbinteract as nbi\n",
    "\n",
    "# - Manipulação de arquivos\n",
    "import pandas as pd\n",
    "import numpy as np\n",
    "import math\n",
    "#import pymc3 as pm"
   ]
  },
  {
   "cell_type": "code",
   "execution_count": 2,
   "metadata": {
    "ExecuteTime": {
     "end_time": "2019-09-27T19:42:37.448482Z",
     "start_time": "2019-09-27T19:42:35.484465Z"
    }
   },
   "outputs": [],
   "source": [
    "# nbi:hide_in\n",
    "# nbi:hide_out\n",
    "\n",
    "# - Visualização\n",
    "import seaborn as sns\n",
    "import squarify \n",
    "\n",
    "# -- Matplotlib -- \n",
    "import matplotlib\n",
    "import matplotlib.pyplot as plt\n",
    "from matplotlib.pyplot import figure\n",
    "# Observar datas em separado\n",
    "import matplotlib.dates as dates\n",
    "# Posso utilizar matplotlib inline ou notebook\n",
    "%matplotlib inline"
   ]
  },
  {
   "cell_type": "code",
   "execution_count": 3,
   "metadata": {
    "ExecuteTime": {
     "end_time": "2019-09-27T19:42:40.479961Z",
     "start_time": "2019-09-27T19:42:40.322959Z"
    }
   },
   "outputs": [],
   "source": [
    "# nbi:hide_in\n",
    "# nbi:hide_out\n",
    "\n",
    "from lifetimes.utils import calibration_and_holdout_data\n",
    "from lifetimes.utils import summary_data_from_transaction_data\n",
    "from lifetimes import BetaGeoFitter\n",
    "from lifetimes import ModifiedBetaGeoFitter\n",
    "\n",
    "# - Plot\n",
    "from lifetimes.plotting import plot_history_alive\n",
    "from lifetimes.plotting import plot_period_transactions\n",
    "from lifetimes.plotting import plot_frequency_recency_matrix\n",
    "from lifetimes.plotting import plot_calibration_purchases_vs_holdout_purchases"
   ]
  },
  {
   "cell_type": "code",
   "execution_count": 4,
   "metadata": {
    "ExecuteTime": {
     "end_time": "2019-09-27T19:42:45.795665Z",
     "start_time": "2019-09-27T19:42:45.790659Z"
    }
   },
   "outputs": [],
   "source": [
    "# nbi:hide_in\n",
    "# nbi:hide_out\n",
    "\n",
    "# - Widgets\n",
    "import ipywidgets as widgets\n",
    "from IPython.display import display, HTML\n",
    "from IPython.display import clear_output\n",
    "from ipywidgets import interact, interact_manual"
   ]
  },
  {
   "cell_type": "code",
   "execution_count": 5,
   "metadata": {
    "ExecuteTime": {
     "end_time": "2019-09-27T19:42:48.109778Z",
     "start_time": "2019-09-27T19:42:48.103772Z"
    }
   },
   "outputs": [],
   "source": [
    "# nbi:hide_in\n",
    "# nbi:hide_out\n",
    "# - Modifica formato de todos os gráficos\n",
    "sns.set(rc={'figure.figsize': (11.7, 8.27)})"
   ]
  },
  {
   "cell_type": "code",
   "execution_count": 6,
   "metadata": {
    "ExecuteTime": {
     "end_time": "2019-09-27T19:43:10.519282Z",
     "start_time": "2019-09-27T19:43:10.211286Z"
    }
   },
   "outputs": [],
   "source": [
    "# nbi:hide_in\n",
    "# nbi:hide_out\n",
    "# - Arquivo com dados básicos de RFM, a recência aqui utilizada difere da recência aplicada no modelo BDNGB\n",
    "df_rfmch = pd.read_csv('preprocessed/UserRFMCH.csv')"
   ]
  },
  {
   "cell_type": "code",
   "execution_count": 9,
   "metadata": {
    "ExecuteTime": {
     "end_time": "2019-09-27T19:44:17.800520Z",
     "start_time": "2019-09-27T19:44:14.783488Z"
    }
   },
   "outputs": [
    {
     "name": "stderr",
     "output_type": "stream",
     "text": [
      "C:\\Users\\rodrigo.sarmento\\AppData\\Local\\Continuum\\anaconda2\\envs\\Python\\lib\\site-packages\\IPython\\core\\interactiveshell.py:3058: DtypeWarning: Columns (14) have mixed types. Specify dtype option on import or set low_memory=False.\n",
      "  interactivity=interactivity, compiler=compiler, result=result)\n"
     ]
    }
   ],
   "source": [
    "# nbi:hide_in\n",
    "# nbi:hide_out\n",
    "# - Arquivo com informação geral sobre cada compra\n",
    "df_fato_compras = pd.read_csv('raw/fato_compras.csv')"
   ]
  },
  {
   "cell_type": "code",
   "execution_count": 23,
   "metadata": {
    "ExecuteTime": {
     "end_time": "2019-09-27T19:49:52.085776Z",
     "start_time": "2019-09-27T19:49:51.269760Z"
    }
   },
   "outputs": [],
   "source": [
    "# nbi:hide_in\n",
    "# nbi:hide_out\n",
    "\n",
    "# - Organiza Dados\n",
    "df = df_fato_compras[['data_local','associado_id']]\n",
    "\n",
    "# - Remove hora da data_compra\n",
    "df['data_compra']= pd.to_datetime(df['data_local'])\n",
    "df['data_compra'] = df['data_compra'].dt.date\n",
    "df.drop(['data_local'],axis=1,inplace=True)"
   ]
  },
  {
   "cell_type": "code",
   "execution_count": 24,
   "metadata": {
    "ExecuteTime": {
     "end_time": "2019-09-27T19:49:52.106778Z",
     "start_time": "2019-09-27T19:49:52.088773Z"
    }
   },
   "outputs": [
    {
     "data": {
      "text/html": [
       "<div>\n",
       "<style scoped>\n",
       "    .dataframe tbody tr th:only-of-type {\n",
       "        vertical-align: middle;\n",
       "    }\n",
       "\n",
       "    .dataframe tbody tr th {\n",
       "        vertical-align: top;\n",
       "    }\n",
       "\n",
       "    .dataframe thead th {\n",
       "        text-align: right;\n",
       "    }\n",
       "</style>\n",
       "<table border=\"1\" class=\"dataframe\">\n",
       "  <thead>\n",
       "    <tr style=\"text-align: right;\">\n",
       "      <th></th>\n",
       "      <th>associado_id</th>\n",
       "      <th>data_compra</th>\n",
       "    </tr>\n",
       "  </thead>\n",
       "  <tbody>\n",
       "    <tr>\n",
       "      <th>0</th>\n",
       "      <td>10358</td>\n",
       "      <td>2019-04-25</td>\n",
       "    </tr>\n",
       "  </tbody>\n",
       "</table>\n",
       "</div>"
      ],
      "text/plain": [
       "   associado_id data_compra\n",
       "0         10358  2019-04-25"
      ]
     },
     "execution_count": 24,
     "metadata": {},
     "output_type": "execute_result"
    }
   ],
   "source": [
    "# nbi:hide_in\n",
    "df.head(1)"
   ]
  },
  {
   "cell_type": "markdown",
   "metadata": {},
   "source": [
    "# Modelo Lifetimes"
   ]
  },
  {
   "cell_type": "markdown",
   "metadata": {},
   "source": [
    "**Notação matemática que representa as features para um usuário X:**\n",
    "- **Frequency** : Quantidade de compras no período\n",
    "- **Recency**: É o período entre sua primeira compra e sua última compra \n",
    "- **T**: É o período total do usuário"
   ]
  },
  {
   "cell_type": "code",
   "execution_count": 25,
   "metadata": {
    "ExecuteTime": {
     "end_time": "2019-09-27T19:50:00.170750Z",
     "start_time": "2019-09-27T19:50:00.115743Z"
    }
   },
   "outputs": [
    {
     "data": {
      "text/plain": [
       "datetime.date(2019, 7, 4)"
      ]
     },
     "execution_count": 25,
     "metadata": {},
     "output_type": "execute_result"
    }
   ],
   "source": [
    "# nbi:hide_in\n",
    "# nbi:hide_out\n",
    "# - Observa a última data de compra\n",
    "df.data_compra.max()"
   ]
  },
  {
   "cell_type": "code",
   "execution_count": 26,
   "metadata": {
    "ExecuteTime": {
     "end_time": "2019-09-27T19:53:49.217941Z",
     "start_time": "2019-09-27T19:51:02.503859Z"
    }
   },
   "outputs": [],
   "source": [
    "# nbi:hide_in\n",
    "# nbi:hide_out\n",
    "summary_cal_holdout = calibration_and_holdout_data(df, \n",
    "                                                   customer_id_col = 'associado_id', \n",
    "                                                   datetime_col = 'data_compra', \n",
    "                                                   freq = 'D', #days\n",
    "                                        calibration_period_end='2019-6-4',\n",
    "                                        observation_period_end='2019-7-4')"
   ]
  },
  {
   "cell_type": "markdown",
   "metadata": {},
   "source": [
    "**Dados Transformados**\n",
    "- Os dados apresentam um \"holdout\" de 30 dias. Esse holdout serve para a validação do modelo com as previsões que serão apresentadas"
   ]
  },
  {
   "cell_type": "code",
   "execution_count": 28,
   "metadata": {
    "ExecuteTime": {
     "end_time": "2019-09-27T19:54:57.809863Z",
     "start_time": "2019-09-27T19:54:57.787855Z"
    },
    "scrolled": true
   },
   "outputs": [
    {
     "data": {
      "text/html": [
       "<div>\n",
       "<style scoped>\n",
       "    .dataframe tbody tr th:only-of-type {\n",
       "        vertical-align: middle;\n",
       "    }\n",
       "\n",
       "    .dataframe tbody tr th {\n",
       "        vertical-align: top;\n",
       "    }\n",
       "\n",
       "    .dataframe thead th {\n",
       "        text-align: right;\n",
       "    }\n",
       "</style>\n",
       "<table border=\"1\" class=\"dataframe\">\n",
       "  <thead>\n",
       "    <tr style=\"text-align: right;\">\n",
       "      <th></th>\n",
       "      <th>frequency_cal</th>\n",
       "      <th>recency_cal</th>\n",
       "      <th>T_cal</th>\n",
       "      <th>frequency_holdout</th>\n",
       "      <th>duration_holdout</th>\n",
       "    </tr>\n",
       "    <tr>\n",
       "      <th>associado_id</th>\n",
       "      <th></th>\n",
       "      <th></th>\n",
       "      <th></th>\n",
       "      <th></th>\n",
       "      <th></th>\n",
       "    </tr>\n",
       "  </thead>\n",
       "  <tbody>\n",
       "    <tr>\n",
       "      <th>3</th>\n",
       "      <td>17.0</td>\n",
       "      <td>81.0</td>\n",
       "      <td>82.0</td>\n",
       "      <td>6.0</td>\n",
       "      <td>30</td>\n",
       "    </tr>\n",
       "    <tr>\n",
       "      <th>4</th>\n",
       "      <td>6.0</td>\n",
       "      <td>72.0</td>\n",
       "      <td>78.0</td>\n",
       "      <td>3.0</td>\n",
       "      <td>30</td>\n",
       "    </tr>\n",
       "    <tr>\n",
       "      <th>19</th>\n",
       "      <td>30.0</td>\n",
       "      <td>125.0</td>\n",
       "      <td>131.0</td>\n",
       "      <td>1.0</td>\n",
       "      <td>30</td>\n",
       "    </tr>\n",
       "    <tr>\n",
       "      <th>60</th>\n",
       "      <td>7.0</td>\n",
       "      <td>132.0</td>\n",
       "      <td>132.0</td>\n",
       "      <td>1.0</td>\n",
       "      <td>30</td>\n",
       "    </tr>\n",
       "    <tr>\n",
       "      <th>61</th>\n",
       "      <td>0.0</td>\n",
       "      <td>0.0</td>\n",
       "      <td>15.0</td>\n",
       "      <td>0.0</td>\n",
       "      <td>30</td>\n",
       "    </tr>\n",
       "  </tbody>\n",
       "</table>\n",
       "</div>"
      ],
      "text/plain": [
       "              frequency_cal  recency_cal  T_cal  frequency_holdout  \\\n",
       "associado_id                                                         \n",
       "3                      17.0         81.0   82.0                6.0   \n",
       "4                       6.0         72.0   78.0                3.0   \n",
       "19                     30.0        125.0  131.0                1.0   \n",
       "60                      7.0        132.0  132.0                1.0   \n",
       "61                      0.0          0.0   15.0                0.0   \n",
       "\n",
       "              duration_holdout  \n",
       "associado_id                    \n",
       "3                           30  \n",
       "4                           30  \n",
       "19                          30  \n",
       "60                          30  \n",
       "61                          30  "
      ]
     },
     "execution_count": 28,
     "metadata": {},
     "output_type": "execute_result"
    }
   ],
   "source": [
    "# nbi:hide_in\n",
    "summary_cal_holdout.head(5)"
   ]
  },
  {
   "cell_type": "markdown",
   "metadata": {},
   "source": [
    "## **Treina Modelo**"
   ]
  },
  {
   "cell_type": "code",
   "execution_count": 29,
   "metadata": {
    "ExecuteTime": {
     "end_time": "2019-09-27T19:55:05.449542Z",
     "start_time": "2019-09-27T19:55:03.378533Z"
    },
    "scrolled": true
   },
   "outputs": [
    {
     "name": "stdout",
     "output_type": "stream",
     "text": [
      "Optimization terminated successfully.\n",
      "         Current function value: -7.523214\n",
      "         Iterations: 43\n",
      "         Function evaluations: 44\n",
      "         Gradient evaluations: 44\n"
     ]
    },
    {
     "name": "stderr",
     "output_type": "stream",
     "text": [
      "C:\\Users\\rodrigo.sarmento\\AppData\\Local\\Continuum\\anaconda2\\envs\\Python\\lib\\site-packages\\lifetimes\\fitters\\__init__.py:82: RuntimeWarning: invalid value encountered in sqrt\n",
      "  return np.sqrt(pd.Series(np.diag(self.variance_matrix_.values), index=self.params_.index))\n"
     ]
    },
    {
     "data": {
      "text/plain": [
       "<lifetimes.ModifiedBetaGeoFitter: fitted with 43814 subjects, a: 0.00, alpha: 6.92, b: 0.00, r: 0.48>"
      ]
     },
     "execution_count": 29,
     "metadata": {},
     "output_type": "execute_result"
    }
   ],
   "source": [
    "# nbi:hide_in\n",
    "# nbi:hide_out\n",
    "mbgnbd = ModifiedBetaGeoFitter(penalizer_coef=0.01)\n",
    "mbgnbd.fit(summary_cal_holdout['frequency_cal'], \n",
    "        summary_cal_holdout['recency_cal'], \n",
    "        summary_cal_holdout['T_cal'],\n",
    "       verbose=True)"
   ]
  },
  {
   "cell_type": "markdown",
   "metadata": {},
   "source": [
    "##  **Previsão Frequência de Compras Utilizando uma \"Validação Cruzada\" com Dados Antigos**"
   ]
  },
  {
   "cell_type": "code",
   "execution_count": 30,
   "metadata": {
    "ExecuteTime": {
     "end_time": "2019-09-27T19:55:12.570321Z",
     "start_time": "2019-09-27T19:55:12.527325Z"
    }
   },
   "outputs": [],
   "source": [
    "# nbi:hide_in\n",
    "# nbi:hide_out\n",
    "# - t é o período a ser previsto\n",
    "t = 30\n",
    "summary_cal_holdout['predicted_purchases'] = mbgnbd.conditional_expected_number_of_purchases_up_to_time(t, summary_cal_holdout['frequency_cal'], summary_cal_holdout['recency_cal'], summary_cal_holdout['T_cal'])"
   ]
  },
  {
   "cell_type": "markdown",
   "metadata": {},
   "source": [
    "**Com uma previsão de 30 dias, para cobrir o tempo de holdout temos:**"
   ]
  },
  {
   "cell_type": "code",
   "execution_count": 31,
   "metadata": {
    "ExecuteTime": {
     "end_time": "2019-09-27T19:55:17.524022Z",
     "start_time": "2019-09-27T19:55:17.498012Z"
    }
   },
   "outputs": [
    {
     "data": {
      "text/html": [
       "<div>\n",
       "<style scoped>\n",
       "    .dataframe tbody tr th:only-of-type {\n",
       "        vertical-align: middle;\n",
       "    }\n",
       "\n",
       "    .dataframe tbody tr th {\n",
       "        vertical-align: top;\n",
       "    }\n",
       "\n",
       "    .dataframe thead th {\n",
       "        text-align: right;\n",
       "    }\n",
       "</style>\n",
       "<table border=\"1\" class=\"dataframe\">\n",
       "  <thead>\n",
       "    <tr style=\"text-align: right;\">\n",
       "      <th></th>\n",
       "      <th>frequency_cal</th>\n",
       "      <th>recency_cal</th>\n",
       "      <th>T_cal</th>\n",
       "      <th>frequency_holdout</th>\n",
       "      <th>duration_holdout</th>\n",
       "      <th>predicted_purchases</th>\n",
       "    </tr>\n",
       "    <tr>\n",
       "      <th>associado_id</th>\n",
       "      <th></th>\n",
       "      <th></th>\n",
       "      <th></th>\n",
       "      <th></th>\n",
       "      <th></th>\n",
       "      <th></th>\n",
       "    </tr>\n",
       "  </thead>\n",
       "  <tbody>\n",
       "    <tr>\n",
       "      <th>3</th>\n",
       "      <td>17.0</td>\n",
       "      <td>81.0</td>\n",
       "      <td>82.0</td>\n",
       "      <td>6.0</td>\n",
       "      <td>30</td>\n",
       "      <td>5.897511</td>\n",
       "    </tr>\n",
       "    <tr>\n",
       "      <th>4</th>\n",
       "      <td>6.0</td>\n",
       "      <td>72.0</td>\n",
       "      <td>78.0</td>\n",
       "      <td>3.0</td>\n",
       "      <td>30</td>\n",
       "      <td>2.289279</td>\n",
       "    </tr>\n",
       "    <tr>\n",
       "      <th>19</th>\n",
       "      <td>30.0</td>\n",
       "      <td>125.0</td>\n",
       "      <td>131.0</td>\n",
       "      <td>1.0</td>\n",
       "      <td>30</td>\n",
       "      <td>6.629981</td>\n",
       "    </tr>\n",
       "    <tr>\n",
       "      <th>60</th>\n",
       "      <td>7.0</td>\n",
       "      <td>132.0</td>\n",
       "      <td>132.0</td>\n",
       "      <td>1.0</td>\n",
       "      <td>30</td>\n",
       "      <td>1.615357</td>\n",
       "    </tr>\n",
       "    <tr>\n",
       "      <th>61</th>\n",
       "      <td>0.0</td>\n",
       "      <td>0.0</td>\n",
       "      <td>15.0</td>\n",
       "      <td>0.0</td>\n",
       "      <td>30</td>\n",
       "      <td>0.657166</td>\n",
       "    </tr>\n",
       "  </tbody>\n",
       "</table>\n",
       "</div>"
      ],
      "text/plain": [
       "              frequency_cal  recency_cal  T_cal  frequency_holdout  \\\n",
       "associado_id                                                         \n",
       "3                      17.0         81.0   82.0                6.0   \n",
       "4                       6.0         72.0   78.0                3.0   \n",
       "19                     30.0        125.0  131.0                1.0   \n",
       "60                      7.0        132.0  132.0                1.0   \n",
       "61                      0.0          0.0   15.0                0.0   \n",
       "\n",
       "              duration_holdout  predicted_purchases  \n",
       "associado_id                                         \n",
       "3                           30             5.897511  \n",
       "4                           30             2.289279  \n",
       "19                          30             6.629981  \n",
       "60                          30             1.615357  \n",
       "61                          30             0.657166  "
      ]
     },
     "execution_count": 31,
     "metadata": {},
     "output_type": "execute_result"
    }
   ],
   "source": [
    "# nbi:hide_in\n",
    "summary_cal_holdout.head(5)"
   ]
  },
  {
   "cell_type": "markdown",
   "metadata": {},
   "source": [
    "### Validando Resultado Frequência"
   ]
  },
  {
   "cell_type": "code",
   "execution_count": 32,
   "metadata": {
    "ExecuteTime": {
     "end_time": "2019-09-27T19:56:12.199946Z",
     "start_time": "2019-09-27T19:56:12.192940Z"
    }
   },
   "outputs": [],
   "source": [
    "# nbi:hide_in\n",
    "# nbi:hide_out\n",
    "summary_cal_holdout['diferenca'] = summary_cal_holdout['predicted_purchases'] - summary_cal_holdout['frequency_holdout']"
   ]
  },
  {
   "cell_type": "markdown",
   "metadata": {},
   "source": [
    "**A média de diferença entre o que foi previsto e o que ocorreu é de 0.l9**"
   ]
  },
  {
   "cell_type": "code",
   "execution_count": 33,
   "metadata": {
    "ExecuteTime": {
     "end_time": "2019-09-27T19:56:24.117010Z",
     "start_time": "2019-09-27T19:56:24.097009Z"
    }
   },
   "outputs": [
    {
     "data": {
      "text/plain": [
       "count    43814.000000\n",
       "mean        -0.197338\n",
       "std          2.204495\n",
       "min        -23.568221\n",
       "25%         -0.832150\n",
       "50%          0.262290\n",
       "75%          0.847485\n",
       "max         16.201204\n",
       "Name: diferenca, dtype: float64"
      ]
     },
     "execution_count": 33,
     "metadata": {},
     "output_type": "execute_result"
    }
   ],
   "source": [
    "# nbi:hide_in\n",
    "summary_cal_holdout.diferenca.describe()"
   ]
  },
  {
   "cell_type": "markdown",
   "metadata": {},
   "source": [
    "**Distribuição da diferença entre o previsto e a realidade**"
   ]
  },
  {
   "cell_type": "code",
   "execution_count": 34,
   "metadata": {
    "ExecuteTime": {
     "end_time": "2019-09-27T19:56:42.283070Z",
     "start_time": "2019-09-27T19:56:41.688767Z"
    }
   },
   "outputs": [
    {
     "data": {
      "text/plain": [
       "<matplotlib.axes._subplots.AxesSubplot at 0x116df1d5588>"
      ]
     },
     "execution_count": 34,
     "metadata": {},
     "output_type": "execute_result"
    },
    {
     "data": {
      "image/png": "[encoded data removed]",
      "text/plain": [
       "<Figure size 842.4x595.44 with 1 Axes>"
      ]
     },
     "metadata": {},
     "output_type": "display_data"
    }
   ],
   "source": [
    "summary_cal_holdout.diferenca.hist()"
   ]
  },
  {
   "cell_type": "markdown",
   "metadata": {},
   "source": [
    "**Valores que demonstram a diferença**"
   ]
  },
  {
   "cell_type": "code",
   "execution_count": 38,
   "metadata": {
    "ExecuteTime": {
     "end_time": "2019-09-27T19:58:18.415826Z",
     "start_time": "2019-09-27T19:58:18.403831Z"
    }
   },
   "outputs": [
    {
     "name": "stdout",
     "output_type": "stream",
     "text": [
      "Frequência Real no Período de 30 Dias: 99854.0 \n",
      "Frequência Prevista no Período: 91207.82094943292 \n",
      "Diferença entre o que aconteceu e o que foi previsto: 8646.17905056708\n"
     ]
    }
   ],
   "source": [
    "# nbi:hide_in\n",
    "frequencia_real = summary_cal_holdout.frequency_holdout.sum()\n",
    "frequencia_prevista = summary_cal_holdout.predicted_purchases.sum()\n",
    "freq_dif = frequencia_real - frequencia_prevista\n",
    "\n",
    "print('Frequência Real no Período de 30 Dias:', frequencia_real, '\\nFrequência Prevista no Período:',\n",
    "      frequencia_prevista, '\\nDiferença entre o que aconteceu e o que foi previsto:', freq_dif)"
   ]
  },
  {
   "cell_type": "markdown",
   "metadata": {},
   "source": [
    "**Comparação entre a frequência real (frequência_holdout) e a frequência prevista (model_predictions)**"
   ]
  },
  {
   "cell_type": "code",
   "execution_count": 39,
   "metadata": {
    "ExecuteTime": {
     "end_time": "2019-09-27T19:59:25.911996Z",
     "start_time": "2019-09-27T19:59:18.249119Z"
    }
   },
   "outputs": [
    {
     "data": {
      "text/plain": [
       "<matplotlib.axes._subplots.AxesSubplot at 0x116df15c828>"
      ]
     },
     "execution_count": 39,
     "metadata": {},
     "output_type": "execute_result"
    },
    {
     "data": {
      "image/png": "[encoded data removed]",
      "text/plain": [
       "<Figure size 842.4x595.44 with 1 Axes>"
      ]
     },
     "metadata": {},
     "output_type": "display_data"
    }
   ],
   "source": [
    "# nbi:hide_in\n",
    "plot_calibration_purchases_vs_holdout_purchases(mbgnbd, summary_cal_holdout)"
   ]
  },
  {
   "cell_type": "markdown",
   "metadata": {},
   "source": [
    "**Visualizando a Matriz deFrequency/Recency**\n",
    "- Quem apresenta um valor alto para recência, diferença grande entre o período de sua primeira compra e sua última(representando que ele continua bem ativo):\n",
    "    - Apresenta maior chance de realizar compras no futuro"
   ]
  },
  {
   "cell_type": "code",
   "execution_count": 40,
   "metadata": {
    "ExecuteTime": {
     "end_time": "2019-09-27T19:59:45.403031Z",
     "start_time": "2019-09-27T19:59:41.251389Z"
    }
   },
   "outputs": [
    {
     "data": {
      "text/plain": [
       "<matplotlib.axes._subplots.AxesSubplot at 0x116df1840f0>"
      ]
     },
     "execution_count": 40,
     "metadata": {},
     "output_type": "execute_result"
    },
    {
     "data": {
      "image/png": "[encoded data removed]",
      "text/plain": [
       "<Figure size 842.4x595.44 with 2 Axes>"
      ]
     },
     "metadata": {},
     "output_type": "display_data"
    }
   ],
   "source": [
    "# nbi:hide_in\n",
    "plot_frequency_recency_matrix(mbgnbd)"
   ]
  },
  {
   "cell_type": "markdown",
   "metadata": {
    "ExecuteTime": {
     "end_time": "2019-09-27T18:33:03.966607Z",
     "start_time": "2019-09-27T18:33:03.954609Z"
    }
   },
   "source": [
    "**Comparação entre os dados originais e dados artificiais simulados pelos parâmetros encontrados no modelo**"
   ]
  },
  {
   "cell_type": "code",
   "execution_count": 41,
   "metadata": {
    "ExecuteTime": {
     "end_time": "2019-09-27T20:00:23.657022Z",
     "start_time": "2019-09-27T20:00:01.737351Z"
    }
   },
   "outputs": [
    {
     "data": {
      "text/plain": [
       "<matplotlib.axes._subplots.AxesSubplot at 0x116df3baf98>"
      ]
     },
     "execution_count": 41,
     "metadata": {},
     "output_type": "execute_result"
    },
    {
     "data": {
      "image/png": "[encoded data removed]",
      "text/plain": [
       "<Figure size 842.4x595.44 with 1 Axes>"
      ]
     },
     "metadata": {},
     "output_type": "display_data"
    }
   ],
   "source": [
    "# nbi:hide_in\n",
    "plot_period_transactions(mbgnbd)"
   ]
  },
  {
   "cell_type": "markdown",
   "metadata": {},
   "source": [
    "## Previsão de Sobrevivência"
   ]
  },
  {
   "cell_type": "code",
   "execution_count": 47,
   "metadata": {
    "ExecuteTime": {
     "end_time": "2019-09-27T20:02:39.939904Z",
     "start_time": "2019-09-27T20:02:38.243902Z"
    }
   },
   "outputs": [],
   "source": [
    "# - Transforma os dados para o formato utilizado pelo modelo\n",
    "summary = summary_data_from_transaction_data(df, 'associado_id', 'data_compra', observation_period_end='2019-7-4')"
   ]
  },
  {
   "cell_type": "markdown",
   "metadata": {},
   "source": [
    "**Utilizando dados completos**"
   ]
  },
  {
   "cell_type": "code",
   "execution_count": 48,
   "metadata": {
    "ExecuteTime": {
     "end_time": "2019-09-27T20:02:44.097972Z",
     "start_time": "2019-09-27T20:02:44.077972Z"
    }
   },
   "outputs": [
    {
     "data": {
      "text/html": [
       "<div>\n",
       "<style scoped>\n",
       "    .dataframe tbody tr th:only-of-type {\n",
       "        vertical-align: middle;\n",
       "    }\n",
       "\n",
       "    .dataframe tbody tr th {\n",
       "        vertical-align: top;\n",
       "    }\n",
       "\n",
       "    .dataframe thead th {\n",
       "        text-align: right;\n",
       "    }\n",
       "</style>\n",
       "<table border=\"1\" class=\"dataframe\">\n",
       "  <thead>\n",
       "    <tr style=\"text-align: right;\">\n",
       "      <th></th>\n",
       "      <th>frequency</th>\n",
       "      <th>recency</th>\n",
       "      <th>T</th>\n",
       "    </tr>\n",
       "    <tr>\n",
       "      <th>associado_id</th>\n",
       "      <th></th>\n",
       "      <th></th>\n",
       "      <th></th>\n",
       "    </tr>\n",
       "  </thead>\n",
       "  <tbody>\n",
       "    <tr>\n",
       "      <th>3</th>\n",
       "      <td>23.0</td>\n",
       "      <td>105.0</td>\n",
       "      <td>112.0</td>\n",
       "    </tr>\n",
       "  </tbody>\n",
       "</table>\n",
       "</div>"
      ],
      "text/plain": [
       "              frequency  recency      T\n",
       "associado_id                           \n",
       "3                  23.0    105.0  112.0"
      ]
     },
     "execution_count": 48,
     "metadata": {},
     "output_type": "execute_result"
    }
   ],
   "source": [
    "# nbi:hide_in\n",
    "summary.head(1)"
   ]
  },
  {
   "cell_type": "code",
   "execution_count": 49,
   "metadata": {
    "ExecuteTime": {
     "end_time": "2019-09-27T20:03:20.689473Z",
     "start_time": "2019-09-27T20:03:18.160472Z"
    }
   },
   "outputs": [
    {
     "name": "stdout",
     "output_type": "stream",
     "text": [
      "Optimization terminated successfully.\n",
      "         Current function value: -10.396543\n",
      "         Iterations: 35\n",
      "         Function evaluations: 37\n",
      "         Gradient evaluations: 37\n"
     ]
    },
    {
     "data": {
      "text/plain": [
       "<lifetimes.ModifiedBetaGeoFitter: fitted with 65844 subjects, a: 0.01, alpha: 8.28, b: 0.20, r: 0.56>"
      ]
     },
     "execution_count": 49,
     "metadata": {},
     "output_type": "execute_result"
    }
   ],
   "source": [
    "# nbi:hide_in\n",
    "# nbi:hide_out\n",
    "mbgnbd = ModifiedBetaGeoFitter(penalizer_coef=0.01)\n",
    "mbgnbd.fit(summary['frequency'], \n",
    "        summary['recency'], \n",
    "        summary['T'],\n",
    "       verbose=True)"
   ]
  },
  {
   "cell_type": "markdown",
   "metadata": {},
   "source": [
    "**Comparação com o modelo holdout utilizado anteriormente**\n",
    "\n",
    "- Optimization terminated successfully.\n",
    "         Current function value: -9.150911\n",
    "         Iterations: 40\n",
    "         Function evaluations: 43\n",
    "         Gradient evaluations: 43\n",
    "<lifetimes.ModifiedBetaGeoFitter: fitted with 56716 subjects, a: 0.01, alpha: 7.80, b: 0.14, r: 0.56>"
   ]
  },
  {
   "cell_type": "markdown",
   "metadata": {},
   "source": [
    "## Previsão de Frequência de Compras"
   ]
  },
  {
   "cell_type": "code",
   "execution_count": 50,
   "metadata": {
    "ExecuteTime": {
     "end_time": "2019-09-27T20:04:42.070055Z",
     "start_time": "2019-09-27T20:04:42.004060Z"
    }
   },
   "outputs": [],
   "source": [
    "# nbi:hide_in\n",
    "# nbi:hide_out\n",
    "# - t é o período a ser previsto\n",
    "t = 10\n",
    "summary['predicted_purchases'] = mbgnbd.conditional_expected_number_of_purchases_up_to_time(t, summary['frequency'], summary['recency'], summary['T'])"
   ]
  },
  {
   "cell_type": "markdown",
   "metadata": {},
   "source": [
    "**Dataframe de Previsões**"
   ]
  },
  {
   "cell_type": "code",
   "execution_count": 52,
   "metadata": {
    "ExecuteTime": {
     "end_time": "2019-09-27T20:05:02.464589Z",
     "start_time": "2019-09-27T20:05:02.438584Z"
    }
   },
   "outputs": [
    {
     "data": {
      "text/html": [
       "<div>\n",
       "<style scoped>\n",
       "    .dataframe tbody tr th:only-of-type {\n",
       "        vertical-align: middle;\n",
       "    }\n",
       "\n",
       "    .dataframe tbody tr th {\n",
       "        vertical-align: top;\n",
       "    }\n",
       "\n",
       "    .dataframe thead th {\n",
       "        text-align: right;\n",
       "    }\n",
       "</style>\n",
       "<table border=\"1\" class=\"dataframe\">\n",
       "  <thead>\n",
       "    <tr style=\"text-align: right;\">\n",
       "      <th></th>\n",
       "      <th>frequency</th>\n",
       "      <th>recency</th>\n",
       "      <th>T</th>\n",
       "      <th>predicted_purchases</th>\n",
       "    </tr>\n",
       "    <tr>\n",
       "      <th>associado_id</th>\n",
       "      <th></th>\n",
       "      <th></th>\n",
       "      <th></th>\n",
       "      <th></th>\n",
       "    </tr>\n",
       "  </thead>\n",
       "  <tbody>\n",
       "    <tr>\n",
       "      <th>3</th>\n",
       "      <td>23.0</td>\n",
       "      <td>105.0</td>\n",
       "      <td>112.0</td>\n",
       "      <td>1.953302</td>\n",
       "    </tr>\n",
       "    <tr>\n",
       "      <th>4</th>\n",
       "      <td>9.0</td>\n",
       "      <td>102.0</td>\n",
       "      <td>108.0</td>\n",
       "      <td>0.819833</td>\n",
       "    </tr>\n",
       "    <tr>\n",
       "      <th>19</th>\n",
       "      <td>31.0</td>\n",
       "      <td>152.0</td>\n",
       "      <td>161.0</td>\n",
       "      <td>1.859381</td>\n",
       "    </tr>\n",
       "    <tr>\n",
       "      <th>60</th>\n",
       "      <td>8.0</td>\n",
       "      <td>142.0</td>\n",
       "      <td>162.0</td>\n",
       "      <td>0.500252</td>\n",
       "    </tr>\n",
       "    <tr>\n",
       "      <th>61</th>\n",
       "      <td>0.0</td>\n",
       "      <td>0.0</td>\n",
       "      <td>45.0</td>\n",
       "      <td>0.088961</td>\n",
       "    </tr>\n",
       "  </tbody>\n",
       "</table>\n",
       "</div>"
      ],
      "text/plain": [
       "              frequency  recency      T  predicted_purchases\n",
       "associado_id                                                \n",
       "3                  23.0    105.0  112.0             1.953302\n",
       "4                   9.0    102.0  108.0             0.819833\n",
       "19                 31.0    152.0  161.0             1.859381\n",
       "60                  8.0    142.0  162.0             0.500252\n",
       "61                  0.0      0.0   45.0             0.088961"
      ]
     },
     "execution_count": 52,
     "metadata": {},
     "output_type": "execute_result"
    }
   ],
   "source": [
    "# nbi:hide_in\n",
    "summary.head(5)"
   ]
  },
  {
   "cell_type": "markdown",
   "metadata": {},
   "source": [
    "## Previsão de sobrevivência"
   ]
  },
  {
   "cell_type": "code",
   "execution_count": 53,
   "metadata": {
    "ExecuteTime": {
     "end_time": "2019-09-27T20:05:54.845402Z",
     "start_time": "2019-09-27T20:05:54.822405Z"
    }
   },
   "outputs": [],
   "source": [
    "# nbi:hide_in\n",
    "# nbi:hide_out\n",
    "summary['p_alive'] = mbgnbd.conditional_probability_alive(\n",
    "    summary['frequency'], summary['recency'], summary['T'])"
   ]
  },
  {
   "cell_type": "markdown",
   "metadata": {
    "ExecuteTime": {
     "end_time": "2019-09-27T20:06:25.389519Z",
     "start_time": "2019-09-27T20:06:25.383522Z"
    }
   },
   "source": [
    "**Dataframe Contendo Probabilidade de Sobrevivência**"
   ]
  },
  {
   "cell_type": "code",
   "execution_count": 54,
   "metadata": {
    "ExecuteTime": {
     "end_time": "2019-09-27T20:05:56.407456Z",
     "start_time": "2019-09-27T20:05:56.381455Z"
    }
   },
   "outputs": [
    {
     "data": {
      "text/html": [
       "<div>\n",
       "<style scoped>\n",
       "    .dataframe tbody tr th:only-of-type {\n",
       "        vertical-align: middle;\n",
       "    }\n",
       "\n",
       "    .dataframe tbody tr th {\n",
       "        vertical-align: top;\n",
       "    }\n",
       "\n",
       "    .dataframe thead th {\n",
       "        text-align: right;\n",
       "    }\n",
       "</style>\n",
       "<table border=\"1\" class=\"dataframe\">\n",
       "  <thead>\n",
       "    <tr style=\"text-align: right;\">\n",
       "      <th></th>\n",
       "      <th>frequency</th>\n",
       "      <th>recency</th>\n",
       "      <th>T</th>\n",
       "      <th>predicted_purchases</th>\n",
       "      <th>p_alive</th>\n",
       "    </tr>\n",
       "    <tr>\n",
       "      <th>associado_id</th>\n",
       "      <th></th>\n",
       "      <th></th>\n",
       "      <th></th>\n",
       "      <th></th>\n",
       "      <th></th>\n",
       "    </tr>\n",
       "  </thead>\n",
       "  <tbody>\n",
       "    <tr>\n",
       "      <th>3</th>\n",
       "      <td>23.0</td>\n",
       "      <td>105.0</td>\n",
       "      <td>112.0</td>\n",
       "      <td>1.953302</td>\n",
       "      <td>0.997729</td>\n",
       "    </tr>\n",
       "    <tr>\n",
       "      <th>4</th>\n",
       "      <td>9.0</td>\n",
       "      <td>102.0</td>\n",
       "      <td>108.0</td>\n",
       "      <td>0.819833</td>\n",
       "      <td>0.997687</td>\n",
       "    </tr>\n",
       "    <tr>\n",
       "      <th>19</th>\n",
       "      <td>31.0</td>\n",
       "      <td>152.0</td>\n",
       "      <td>161.0</td>\n",
       "      <td>1.859381</td>\n",
       "      <td>0.997694</td>\n",
       "    </tr>\n",
       "    <tr>\n",
       "      <th>60</th>\n",
       "      <td>8.0</td>\n",
       "      <td>142.0</td>\n",
       "      <td>162.0</td>\n",
       "      <td>0.500252</td>\n",
       "      <td>0.995452</td>\n",
       "    </tr>\n",
       "    <tr>\n",
       "      <th>61</th>\n",
       "      <td>0.0</td>\n",
       "      <td>0.0</td>\n",
       "      <td>45.0</td>\n",
       "      <td>0.088961</td>\n",
       "      <td>0.846761</td>\n",
       "    </tr>\n",
       "  </tbody>\n",
       "</table>\n",
       "</div>"
      ],
      "text/plain": [
       "              frequency  recency      T  predicted_purchases   p_alive\n",
       "associado_id                                                          \n",
       "3                  23.0    105.0  112.0             1.953302  0.997729\n",
       "4                   9.0    102.0  108.0             0.819833  0.997687\n",
       "19                 31.0    152.0  161.0             1.859381  0.997694\n",
       "60                  8.0    142.0  162.0             0.500252  0.995452\n",
       "61                  0.0      0.0   45.0             0.088961  0.846761"
      ]
     },
     "execution_count": 54,
     "metadata": {},
     "output_type": "execute_result"
    }
   ],
   "source": [
    "# nbi:hide_in\n",
    "summary.head(5)"
   ]
  },
  {
   "cell_type": "markdown",
   "metadata": {},
   "source": [
    "**Descrição da Variável p_alive**"
   ]
  },
  {
   "cell_type": "code",
   "execution_count": 56,
   "metadata": {
    "ExecuteTime": {
     "end_time": "2019-09-27T20:07:05.522380Z",
     "start_time": "2019-09-27T20:07:05.502393Z"
    }
   },
   "outputs": [
    {
     "data": {
      "text/plain": [
       "count    65844.000000\n",
       "mean         0.927468\n",
       "std          0.077532\n",
       "min          0.000003\n",
       "25%          0.874408\n",
       "50%          0.950292\n",
       "75%          0.992891\n",
       "max          0.999853\n",
       "Name: p_alive, dtype: float64"
      ]
     },
     "execution_count": 56,
     "metadata": {},
     "output_type": "execute_result"
    }
   ],
   "source": [
    "# nbi:hide_in\n",
    "summary.p_alive.describe()"
   ]
  },
  {
   "cell_type": "markdown",
   "metadata": {},
   "source": [
    "**Distribuição da probabilidade de sobrevivência**"
   ]
  },
  {
   "cell_type": "code",
   "execution_count": 57,
   "metadata": {
    "ExecuteTime": {
     "end_time": "2019-09-27T20:07:10.707344Z",
     "start_time": "2019-09-27T20:07:10.193150Z"
    }
   },
   "outputs": [
    {
     "data": {
      "text/plain": [
       "<matplotlib.axes._subplots.AxesSubplot at 0x116dfafc550>"
      ]
     },
     "execution_count": 57,
     "metadata": {},
     "output_type": "execute_result"
    },
    {
     "data": {
      "image/png": "[encoded data removed]",
      "text/plain": [
       "<Figure size 842.4x595.44 with 1 Axes>"
      ]
     },
     "metadata": {},
     "output_type": "display_data"
    }
   ],
   "source": [
    "# nbi:hide_in\n",
    "summary.p_alive.hist(bins=20)"
   ]
  },
  {
   "cell_type": "code",
   "execution_count": 59,
   "metadata": {
    "ExecuteTime": {
     "end_time": "2019-09-27T20:08:56.667245Z",
     "start_time": "2019-09-27T20:08:56.537222Z"
    }
   },
   "outputs": [],
   "source": [
    "# nbi:hide_in\n",
    "df_lifetime_rfm = pd.merge(df_rfmch, summary.reset_index(), on='associado_id')"
   ]
  },
  {
   "cell_type": "code",
   "execution_count": 60,
   "metadata": {
    "ExecuteTime": {
     "end_time": "2019-09-27T20:08:59.033807Z",
     "start_time": "2019-09-27T20:08:58.940800Z"
    }
   },
   "outputs": [],
   "source": [
    "# nbi:hide_in\n",
    "# nbi:hide_out\n",
    "def density_plot_var():\n",
    "    # - Desenha Plot\n",
    "    plt.figure(figsize=(16, 10), dpi=80)\n",
    "    try:\n",
    "        sns.kdeplot(df_lifetime_rfm.loc[df_lifetime_rfm['categoria'] == menu_distri.value,\n",
    "                           menu_rfm.value], shade=True, color=plt.cm.Spectral(300), label=\"Distribuição\", alpha=.7, shade_lowest=True)\n",
    "    except:\n",
    "        sns.kdeplot(df_lifetime_rfm.replace([np.inf, -np.inf], np.nan).dropna().loc[df_lifetime_rfm['categoria'] == menu_distri.value,\n",
    "                                                                       menu_rfm.value], shade=True, color=\"dodgerblue\", label=\"Distribuição\", alpha=.7)\n",
    "\n",
    "    # - Decoração\n",
    "    plt.title('Distribuição '+menu_distri.value, fontsize=22)\n",
    "    plt.legend()\n",
    "    plt.show()\n",
    "    return\n",
    "\n",
    "def on_button_clicked(_):\n",
    "    # - Click do botão\n",
    "    # Função de linkagem\n",
    "    with out_distri:\n",
    "        # - Caso o botão seja apertado\n",
    "        clear_output()\n",
    "        density_plot_var()\n",
    "\n",
    "\n",
    "# ---------- Menu Distribuição ----------\n",
    "# - Menu com as categorias RFM\n",
    "menu_distri = widgets.Dropdown(\n",
    "    options=list(df_lifetime_rfm.categoria.unique()),\n",
    "    value='Vip',\n",
    "    description='Categoria:')\n",
    "\n",
    "# - Menu com as variáveis que compõem RFML\n",
    "menu_rfm = widgets.Dropdown(\n",
    "    options=['Frequency', 'Recency', 'Monetary', 'Longevity', 'churn','predicted_purchases','p_alive'],\n",
    "    value='Frequency',\n",
    "    description='Distribuição:')\n",
    "\n",
    "\n",
    "button_distri = widgets.Button(description='Gera Distribuição')\n",
    "out_distri = widgets.Output()\n",
    "\n",
    "# - Linkando o botão e a função utilizando o método \"button's\"\n",
    "button_distri.on_click(on_button_clicked)\n",
    "\n",
    "# - Cria box que contém os dois. Mostrar o botão e o output juntos\n",
    "box_distri = widgets.VBox([menu_distri, menu_rfm, button_distri, out_distri])"
   ]
  },
  {
   "cell_type": "code",
   "execution_count": 61,
   "metadata": {
    "ExecuteTime": {
     "end_time": "2019-09-27T20:09:01.516263Z",
     "start_time": "2019-09-27T20:09:01.503263Z"
    }
   },
   "outputs": [
    {
     "data": {
      "application/vnd.jupyter.widget-view+json": {
       "model_id": "cface7679c264c51b30cf1dad7cf8cac",
       "version_major": 2,
       "version_minor": 0
      },
      "text/plain": [
       "VBox(children=(Dropdown(description='Categoria:', options=('Vip', 'Destaque', 'Distante Fiel Valioso', 'Proxim…"
      ]
     },
     "metadata": {},
     "output_type": "display_data"
    }
   ],
   "source": [
    "# nbi:hide_in\n",
    "box_distri"
   ]
  },
  {
   "cell_type": "code",
   "execution_count": null,
   "metadata": {},
   "outputs": [],
   "source": []
  }
 ],
 "metadata": {
  "hide_input": false,
  "kernelspec": {
   "display_name": "Python 3",
   "language": "python",
   "name": "python3"
  },
  "language_info": {
   "codemirror_mode": {
    "name": "ipython",
    "version": 3
   },
   "file_extension": ".py",
   "mimetype": "text/x-python",
   "name": "python",
   "nbconvert_exporter": "python",
   "pygments_lexer": "ipython3",
   "version": "3.7.3"
  },
  "toc": {
   "base_numbering": 1,
   "nav_menu": {},
   "number_sections": true,
   "sideBar": true,
   "skip_h1_title": false,
   "title_cell": "Table of Contents",
   "title_sidebar": "Contents",
   "toc_cell": false,
   "toc_position": {},
   "toc_section_display": true,
   "toc_window_display": true
  }
 },
 "nbformat": 4,
 "nbformat_minor": 2
}
