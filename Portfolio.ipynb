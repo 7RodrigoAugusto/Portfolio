{
 "cells": [
  {
   "cell_type": "code",
   "execution_count": 1,
   "metadata": {
    "ExecuteTime": {
     "end_time": "2019-09-03T20:36:55.069606Z",
     "start_time": "2019-09-03T20:36:51.655074Z"
    }
   },
   "outputs": [],
   "source": [
    "# nbi:hide_in\n",
    "import nbinteract as nbi\n",
    "\n",
    "import pandas as pd\n",
    "import numpy as np\n",
    "\n",
    "import ipywidgets as widgets\n",
    "from IPython.display import display\n",
    "from IPython.display import clear_output\n",
    "from ipywidgets import interact, interact_manual\n",
    "\n",
    "'''\n",
    "Imports para visualização\n",
    "'''\n",
    "import seaborn as sns\n",
    "import squarify\n",
    "from seaborn import countplot\n",
    "\n",
    "# -- Matplotlib --\n",
    "import matplotlib\n",
    "import matplotlib.pyplot as plt\n",
    "from matplotlib.pyplot import figure, show\n",
    "import matplotlib.dates as dates"
   ]
  },
  {
   "cell_type": "code",
   "execution_count": 2,
   "metadata": {
    "ExecuteTime": {
     "end_time": "2019-09-03T20:36:55.087099Z",
     "start_time": "2019-09-03T20:36:55.073097Z"
    }
   },
   "outputs": [
    {
     "data": {
      "text/plain": [
       "'\\nfile = open(\"images/logo.png\", \"rb\")\\nimage = file.read()\\nimg_phoebus = widgets.Image(\\n    value=image,\\n    format=\\'png\\',\\n    width=140,\\n    height=300,\\n)\\n\\n\\ncabecalho = widgets.HTML(\\n    value=\"<b>Portfólio dos Parceiros</b>\",\\n    placeholder=\\'teste\\',\\n    #description=\\'Portfólio dos Parceiros\\',\\n)\\nwidgets.VBox([img_phoebus, cabecalho])\\n'"
      ]
     },
     "execution_count": 2,
     "metadata": {},
     "output_type": "execute_result"
    }
   ],
   "source": [
    "# nbi:hide_in\n",
    "# nbi:hide_out\n",
    "'''\n",
    "file = open(\"images/logo.png\", \"rb\")\n",
    "image = file.read()\n",
    "img_phoebus = widgets.Image(\n",
    "    value=image,\n",
    "    format='png',\n",
    "    width=140,\n",
    "    height=300,\n",
    ")\n",
    "\n",
    "\n",
    "cabecalho = widgets.HTML(\n",
    "    value=\"<b>Portfólio dos Parceiros</b>\",\n",
    "    placeholder='teste',\n",
    "    #description='Portfólio dos Parceiros',\n",
    ")\n",
    "widgets.VBox([img_phoebus, cabecalho])\n",
    "'''"
   ]
  },
  {
   "cell_type": "code",
   "execution_count": 3,
   "metadata": {
    "ExecuteTime": {
     "end_time": "2019-09-03T20:36:55.132599Z",
     "start_time": "2019-09-03T20:36:55.122596Z"
    }
   },
   "outputs": [],
   "source": [
    "# nbi:hide_in\n",
    "#nbi.publish('7RodrigoAugusto/PortfoliA', 'PortfoliA.ipynb')"
   ]
  },
  {
   "cell_type": "code",
   "execution_count": 4,
   "metadata": {
    "ExecuteTime": {
     "end_time": "2019-09-03T20:36:55.298104Z",
     "start_time": "2019-09-03T20:36:55.141604Z"
    }
   },
   "outputs": [],
   "source": [
    "# nbi:hide_in\n",
    "def recency(df_aux):\n",
    "    '''\n",
    "    Função cria Dataframe com associado_id + data_última_compra\n",
    "    '''\n",
    "\n",
    "    # - Define data mais recente\n",
    "    data_mais_recente = df_aux.data_local.max()\n",
    "\n",
    "    # - Remove colunas desnecessárias para o cálculo de Recency\n",
    "    clean_recency = df_aux.drop(['compra_id',\n",
    "                                 'programa_id',\n",
    "                                 'parceiro_id',\n",
    "                                 'loja_id',\n",
    "                                 'data_servidor',\n",
    "                                 'origem',\n",
    "                                 'qtd_cupons',\n",
    "                                 'forma_identificacao',\n",
    "                                 'cartao_gestor',\n",
    "                                 'cod_atendente',\n",
    "                                 'nota_fiscal_id',\n",
    "                                 'situacao_associado',\n",
    "                                 'situacao',\n",
    "                                 'valor_inicial',\n",
    "                                 'valor_final',\n",
    "                                 'valor_resgatado',\n",
    "                                 'valor_desconto',\n",
    "                                 'valor_troco',\n",
    "                                 'acumulo_total',\n",
    "                                 'teve_resgate'],\n",
    "                                axis=1)\n",
    "\n",
    "    # - Localiza data mais recente para cada associado\n",
    "    df_rec = clean_recency.loc[clean_recency.groupby(\n",
    "        'associado_id').data_local.idxmax()]\n",
    "\n",
    "    # - Subtraí data mais recente da última data para cada associado\n",
    "    df_rec.data_local = (\n",
    "        data_mais_recente -\n",
    "        df_rec.data_local).astype('timedelta64[D]')\n",
    "\n",
    "    # - Altera nome das colunas\n",
    "    df_rec = df_rec.rename(index=str, columns={\"data_local\": \"rec\"})\n",
    "\n",
    "    # - Transforma a quantidade de dias da última compra em inteiro\n",
    "    df_rec.rec = df_rec.rec.astype(int)\n",
    "\n",
    "    return df_rec\n",
    "\n",
    "\n",
    "def frequency(df_aux):\n",
    "    '''\n",
    "    Função cria Dataframe com associado_id + quantidade de compras\n",
    "    '''\n",
    "\n",
    "    # - Remove colunas desnecessárias para o cálculo de Frequency\n",
    "    clean_frequency = df_aux.drop(['valor_final',\n",
    "                                   'data_local',\n",
    "                                   'compra_id',\n",
    "                                   'programa_id',\n",
    "                                   'parceiro_id',\n",
    "                                   'loja_id',\n",
    "                                   'data_servidor',\n",
    "                                   'origem',\n",
    "                                   'qtd_cupons',\n",
    "                                   'forma_identificacao',\n",
    "                                   'cartao_gestor',\n",
    "                                   'cod_atendente',\n",
    "                                   'nota_fiscal_id',\n",
    "                                   'situacao_associado',\n",
    "                                   'situacao',\n",
    "                                   'valor_inicial',\n",
    "                                   'valor_resgatado',\n",
    "                                   'valor_desconto',\n",
    "                                   'valor_troco',\n",
    "                                   'acumulo_total',\n",
    "                                   'teve_resgate'],\n",
    "                                  axis=1)\n",
    "\n",
    "    # - Conta a quantidade de compras por associado\n",
    "    counts = clean_frequency['associado_id'].value_counts().to_dict()\n",
    "\n",
    "    # - Cria dataframe Frequency\n",
    "    df_fre = pd.DataFrame(counts.items(), columns=['associado_id', 'freq'])\n",
    "\n",
    "    return df_fre\n",
    "\n",
    "\n",
    "def monetary(df_aux):\n",
    "    '''\n",
    "    Função cria Dataframe com associado_id + soma de gastos\n",
    "    '''\n",
    "\n",
    "    # - Remove colunas desnecessárias para o cálculo de Monetary\n",
    "    clean_monetary = df_aux.drop(['data_local',\n",
    "                                  'compra_id',\n",
    "                                  'programa_id',\n",
    "                                  'parceiro_id',\n",
    "                                  'loja_id',\n",
    "                                  'data_servidor',\n",
    "                                  'origem',\n",
    "                                  'qtd_cupons',\n",
    "                                  'forma_identificacao',\n",
    "                                  'cartao_gestor',\n",
    "                                  'cod_atendente',\n",
    "                                  'nota_fiscal_id',\n",
    "                                  'situacao_associado',\n",
    "                                  'situacao',\n",
    "                                  'valor_inicial',\n",
    "                                  'valor_resgatado',\n",
    "                                  'valor_desconto',\n",
    "                                  'valor_troco',\n",
    "                                  'acumulo_total',\n",
    "                                  'teve_resgate'],\n",
    "                                 axis=1)\n",
    "\n",
    "    # - Soma todos os gastos por usuário\n",
    "    df_mon = (clean_monetary.groupby(['associado_id']).sum()).reset_index()\n",
    "\n",
    "    return df_mon\n",
    "\n",
    "\n",
    "def longetivity(df_aux):\n",
    "    '''\n",
    "    Função cria Dataframe com associado_id + longevidade\n",
    "    '''\n",
    "    # - Define data mais recente\n",
    "    data_mais_recente = df_aux.data_local.max()\n",
    "\n",
    "    # - Remove colunas desnecessárias para o cálculo de Monetary\n",
    "    clean_longe = df_aux[['associado_id', 'data_local']]\n",
    "\n",
    "    # - Localiza data da primeira compra para cada associado\n",
    "    longetivity = clean_longe.loc[clean_longe.groupby(\n",
    "        'associado_id').data_local.idxmin()]\n",
    "\n",
    "    # - Subtraí data mais recente da data da primeira compra para cada associado\n",
    "    longetivity['long'] = (data_mais_recente -\n",
    "                           longetivity.data_local).astype('timedelta64[D]')\n",
    "\n",
    "    # - Transforma a quantidade de dias da primeira compra por inteiro\n",
    "    longetivity.long = longetivity.long.astype(int)\n",
    "\n",
    "    # - Remove coluna data_local\n",
    "    longetivity.drop(['data_local'], axis=1, inplace=True)\n",
    "\n",
    "    return longetivity\n",
    "\n",
    "\n",
    "def RScore(x, p, d):\n",
    "    '''\n",
    "    Função para retornar as notas de Recency\n",
    "    - Com Recency os valores de rank 1 são os centrais\n",
    "    '''\n",
    "    if x <= d[p][0.25]:\n",
    "        return 1\n",
    "    elif x <= d[p][0.50]:\n",
    "        return 2\n",
    "    elif x <= d[p][0.75]:\n",
    "        return 3\n",
    "    else:\n",
    "        return 4\n",
    "\n",
    "\n",
    "def FMScore(x, p, d):\n",
    "    '''\n",
    "    Função para retornar as notas de Frequency e Monetary\n",
    "    - Com Monetary e Frequency os valores de rank 1 se concentram nas pontas\n",
    "    '''\n",
    "    if x <= d[p][0.25]:\n",
    "        return 4\n",
    "    elif x <= d[p][0.50]:\n",
    "        return 3\n",
    "    elif x <= d[p][0.75]:\n",
    "        return 2\n",
    "    else:\n",
    "        return 1\n",
    "\n",
    "\n",
    "def rfmRank(df_entrada):\n",
    "    '''\n",
    "    Função para a criação do csv final contendo o rank RFM\n",
    "    '''\n",
    "    # - Cria uma cópia do Dataframe para não alterar o original\n",
    "    segmented_rfm = df_entrada.copy()\n",
    "\n",
    "    # - Define quantiles de agrupamento\n",
    "    quantiles = segmented_rfm.quantile(q=[0.25, 0.5, 0.75])\n",
    "    quantiles = quantiles.to_dict()\n",
    "\n",
    "    segmented_rfm['r_quartile'] = segmented_rfm['Recency'].apply(\n",
    "        RScore, args=('Recency', quantiles,))\n",
    "    segmented_rfm['f_quartile'] = segmented_rfm['Frequency'].apply(\n",
    "        FMScore, args=('Frequency', quantiles,))\n",
    "    segmented_rfm['m_quartile'] = segmented_rfm['Monetary'].apply(\n",
    "        FMScore, args=('Monetary', quantiles,))\n",
    "\n",
    "    # - Combina os valores para criar o RFMScore\n",
    "    segmented_rfm['RFMScore'] = segmented_rfm.r_quartile.map(\n",
    "        str) + segmented_rfm.f_quartile.map(str) + segmented_rfm.m_quartile.map(str)\n",
    "\n",
    "    return segmented_rfm\n",
    "\n",
    "\n",
    "def define_cat_rfm(df_entrada):\n",
    "    # - Cria uma cópia do Dataframe para não alterar o original\n",
    "    df = df_entrada.copy()\n",
    "\n",
    "    df['categoria'] = ''\n",
    "\n",
    "    # - Categorias básica\n",
    "    df.loc[df.r_quartile.isin([1, 2]) & df.f_quartile.isin(\n",
    "        [1, 2]) & df.m_quartile.isin([1, 2]), 'categoria'] = 'Destaque'\n",
    "    df.loc[df.r_quartile.isin([1, 2]) & df.f_quartile.isin(\n",
    "        [1, 2]) & df.m_quartile.isin([3, 4]), 'categoria'] = 'Proximo Fiel Limitado'\n",
    "    df.loc[df.r_quartile.isin([1, 2]) & df.f_quartile.isin(\n",
    "        [3, 4]) & df.m_quartile.isin([1, 2]), 'categoria'] = 'Novo Valioso'\n",
    "    df.loc[df.r_quartile.isin([3, 4]) & df.f_quartile.isin(\n",
    "        [1, 2]) & df.m_quartile.isin([1, 2]), 'categoria'] = 'Distante Fiel Valioso'\n",
    "    df.loc[df.r_quartile.isin([3, 4]) & df.f_quartile.isin(\n",
    "        [3, 4]) & df.m_quartile.isin([3, 4]), 'categoria'] = 'Distante Limitado'\n",
    "    df.loc[df.r_quartile.isin([3, 4]) & df.f_quartile.isin(\n",
    "        [3, 4]) & df.m_quartile.isin([1, 2]), 'categoria'] = 'Distante Valioso'\n",
    "    df.loc[df.r_quartile.isin([1, 2]) & df.f_quartile.isin(\n",
    "        [3, 4]) & df.m_quartile.isin([3, 4]), 'categoria'] = 'Novo Limitado'\n",
    "    df.loc[df.r_quartile.isin([3, 4]) & df.f_quartile.isin(\n",
    "        [1, 2]) & df.m_quartile.isin([3, 4]), 'categoria'] = 'Distante Fiel Limitado'\n",
    "\n",
    "    # - Categorias especiais\n",
    "    df.loc[df.r_quartile.isin([1]) & df.f_quartile.isin(\n",
    "        [1]) & df.m_quartile.isin([1]), 'categoria'] = 'Vip'\n",
    "    df.loc[df.r_quartile.isin([4]) & df.f_quartile.isin(\n",
    "        [4]) & df.m_quartile.isin([4]), 'categoria'] = 'Problematico'\n",
    "\n",
    "    return df\n",
    "\n",
    "\n",
    "def define_cat_churn(row):\n",
    "    if row.churn < 1:\n",
    "        return '0'\n",
    "    if row.churn == 1:\n",
    "        return '1'\n",
    "    if ((row[\"churn\"] > 1) & (row[\"churn\"] <= 10)):\n",
    "        return '2'\n",
    "    if ((row[\"churn\"] > 10) & (row[\"churn\"] <= 100)):\n",
    "        return '3'\n",
    "    if row.churn > 100:\n",
    "        return '4'\n",
    "\n",
    "\n",
    "def cria_churn(df_1, df_2, df_3):\n",
    "    '''\n",
    "    Cria Arquivo Churn\n",
    "    '''\n",
    "\n",
    "    # - Unifica dataframes longevidade, frequência e recência por associado_id\n",
    "    df_ch = pd.merge(\n",
    "        pd.merge(\n",
    "            df_1,\n",
    "            df_2,\n",
    "            on='associado_id'),\n",
    "        df_3,\n",
    "        on='associado_id')\n",
    "\n",
    "    # - Calcula frequência de atividades\n",
    "    df_ch['act_freq'] = (df_ch.long - df_ch.rec) / (df_ch.freq - 1)\n",
    "\n",
    "    # - Calcula churn\n",
    "    df_ch['churn'] = (df_ch.rec) / (df_ch.act_freq)\n",
    "\n",
    "    # - Trata usuários novos, aqueles que possuem longevidade igual a zero, determinando act_freq e churn igual a zero\n",
    "    df_ch.loc[df_ch['long'] == 0, 'act_freq'] = 0\n",
    "    df_ch.loc[df_ch['long'] == 0, 'churn'] = 0\n",
    "\n",
    "    # - Altera valores de churn Infinito pra 400, para que não sejam removidos na hora da visualização\n",
    "    df_ch = df_ch.replace([np.inf], 400)\n",
    "\n",
    "    # - Cria categorias Churn\n",
    "    df_ch['categoria_churn'] = df_ch.apply(\n",
    "        lambda row: define_cat_churn(row), axis=1)\n",
    "\n",
    "    # - Atualiza tipo do dado associado_id\n",
    "    df_ch.associado_id = df_ch.associado_id.astype(str)\n",
    "\n",
    "    # - Define index como associado_id\n",
    "    df_ch.set_index('associado_id', inplace=True)\n",
    "\n",
    "    return df_ch\n",
    "\n",
    "\n",
    "def cria_rfm(df_1, df_2, df_3):\n",
    "    '''\n",
    "    Cria Arquivo RFM\n",
    "    '''\n",
    "    # - Unifica dataframes por associado_id\n",
    "    df_3 = pd.merge(\n",
    "        pd.merge(\n",
    "            df_1,\n",
    "            df_2,\n",
    "            on='associado_id'),\n",
    "        df_3,\n",
    "        on='associado_id')\n",
    "\n",
    "    # - Define index como associado_id\n",
    "    df_3 = df_3.set_index('associado_id')\n",
    "\n",
    "    # - Atualiza nome das colunas\n",
    "    df_3 = df_3.rename(\n",
    "        index=str,\n",
    "        columns={\n",
    "            \"freq\": \"Frequency\",\n",
    "            \"valor_final\": \"Monetary\",\n",
    "            \"rec\": \"Recency\"})\n",
    "\n",
    "    # - Cria rank\n",
    "    df_rank_rfm = rfmRank(df_3)\n",
    "\n",
    "    # - Cria categorias RFM\n",
    "    df_cat_rfm = define_cat_rfm(df_rank_rfm)\n",
    "\n",
    "    return df_cat_rfm\n",
    "\n",
    "\n",
    "def RFMChurn(df_entrada):\n",
    "    '''\n",
    "    Cria Arquivo RFM e Churn\n",
    "    Args:\n",
    "        df_entrada: Dataframe inicial com dados\n",
    "    Retorna:\n",
    "        Os dataframe RFM e Churn\n",
    "    '''\n",
    "\n",
    "    # - Cria uma cópia do Dataframe para não alterar o original\n",
    "    df_clean = df_entrada.copy()\n",
    "\n",
    "    # - Calcula RFML\n",
    "    df_r = recency(df_clean)\n",
    "    df_f = frequency(df_clean)\n",
    "    df_m = monetary(df_clean)\n",
    "    df_l = longetivity(df_clean)\n",
    "\n",
    "    # - Unifica dataframes por associado_id\n",
    "    df_rfm = pd.merge(pd.merge(df_f, df_m, on='associado_id'),\n",
    "                      df_r, on='associado_id')\n",
    "\n",
    "    '''\n",
    "    Cria Arquivo RFM\n",
    "    '''\n",
    "    df_rfm = cria_rfm(df_f, df_m, df_r)\n",
    "\n",
    "    '''\n",
    "    Cria Arquivo Churn\n",
    "    '''\n",
    "    df_churn = cria_churn(df_f, df_l, df_r)\n",
    "\n",
    "    '''\n",
    "    Cria Arquivo Final Contendo Churn + RFM\n",
    "    '''\n",
    "    df_rfmCh = pd.merge(df_rfm, df_churn, on='associado_id')\n",
    "\n",
    "    # - Remove colunas repetidas, que foram utilizadas nos dois arquivos df_cat_rfm e df_churn\n",
    "    df_rfmCh.drop(['freq', 'rec'], axis=1, inplace=True)\n",
    "\n",
    "    # - Renomeia coluna longevidade\n",
    "    df_rfmCh.rename(columns={'long': 'Longevity'}, inplace=True)\n",
    "\n",
    "    return df_rfmCh\n",
    "\n",
    "\n",
    "def main_rfm():\n",
    "    # - Recebe arquivo\n",
    "    df_fato_compra = pd.read_csv('raw/fato_compras.csv')\n",
    "    df_fato_compra.drop(['Unnamed: 0'], axis=1, inplace=True)\n",
    "\n",
    "    # - Converte data_local para datetime\n",
    "    df_fato_compra.data_local = pd.to_datetime(df_fato_compra.data_local)\n",
    "\n",
    "    # - Filtra informação\n",
    "    df_clean = df_fato_compra[df_fato_compra.situacao == 'Confirmada']\n",
    "\n",
    "    # - Cria arquivo RFM Churn\n",
    "    df_RFMCH = RFMChurn(df_clean)\n",
    "\n",
    "    return df_RFMCH"
   ]
  },
  {
   "cell_type": "code",
   "execution_count": 5,
   "metadata": {
    "ExecuteTime": {
     "end_time": "2019-09-03T20:37:47.116992Z",
     "start_time": "2019-09-03T20:36:55.303601Z"
    }
   },
   "outputs": [
    {
     "name": "stderr",
     "output_type": "stream",
     "text": [
      "C:\\Users\\rodrigo.sarmento\\AppData\\Local\\Continuum\\anaconda2\\envs\\Python\\lib\\site-packages\\IPython\\core\\interactiveshell.py:3249: DtypeWarning: Columns (14) have mixed types. Specify dtype option on import or set low_memory=False.\n",
      "  if (await self.run_code(code, result,  async_=asy)):\n"
     ]
    }
   ],
   "source": [
    "# nbi:hide_in\n",
    "# nbi:hide_out\n",
    "df = main_rfm()"
   ]
  },
  {
   "cell_type": "markdown",
   "metadata": {},
   "source": [
    "# Categorias"
   ]
  },
  {
   "cell_type": "code",
   "execution_count": 6,
   "metadata": {
    "ExecuteTime": {
     "end_time": "2019-09-03T20:37:47.143997Z",
     "start_time": "2019-09-03T20:37:47.122994Z"
    }
   },
   "outputs": [],
   "source": [
    "# nbi:hide_in\n",
    "def pie_chart(coluna):\n",
    "    # Pie chart\n",
    "    labels = df[coluna].unique()\n",
    "    sizes = [len(df.loc[df[coluna] == i]) for i in df[coluna].unique()]\n",
    "\n",
    "    # Define Cores\n",
    "    a, b, c = [plt.cm.Blues, plt.cm.Reds, plt.cm.Greens]\n",
    "\n",
    "    # - Outra Forma\n",
    "    # colors = ['#ff9999','#66b3ff','#99ff99','#ffcc99']\n",
    "\n",
    "    fig1, ax1 = plt.subplots()\n",
    "    ax1.pie(sizes, colors=[a(0.6), b(0.6), c(0.6)],\n",
    "            labels=labels, autopct='%1.1f%%', startangle=90)\n",
    "\n",
    "    # - Desenha Donut\n",
    "    centre_circle = plt.Circle((0, 0), 0.70, fc='white')\n",
    "    fig = plt.gcf()\n",
    "    fig.gca().add_artist(centre_circle)\n",
    "\n",
    "    # - 'Equal' o 'aspect ratio' para garantir que a torta tenha um formato de círculo\n",
    "    ax1.axis('equal')\n",
    "    plt.tight_layout()\n",
    "    plt.show()\n",
    "    return"
   ]
  },
  {
   "cell_type": "code",
   "execution_count": 7,
   "metadata": {
    "ExecuteTime": {
     "end_time": "2019-09-03T20:37:47.217995Z",
     "start_time": "2019-09-03T20:37:47.150995Z"
    }
   },
   "outputs": [],
   "source": [
    "# nbi:hide_in\n",
    "def treemap_categorias(coluna):\n",
    "    # Prepare Data\n",
    "    df_plot = df.groupby(coluna).size().reset_index(name='counts')\n",
    "    labels = df_plot.apply(lambda x: str(\n",
    "        x[0]) + \"\\n (\" + str(x[1]) + \")\", axis=1)\n",
    "    sizes = df_plot['counts'].values.tolist()\n",
    "    colors = [plt.cm.Spectral(i/float(len(labels)))\n",
    "              for i in range(len(labels))]\n",
    "\n",
    "    # Draw Plot\n",
    "    plt.figure(figsize=(12, 8), dpi=80)\n",
    "    squarify.plot(sizes=sizes, label=labels, color=colors, alpha=.8)\n",
    "\n",
    "    # Decorate\n",
    "    plt.title('Treemap das Categorias')\n",
    "    plt.axis('off')\n",
    "    plt.show()\n",
    "    return"
   ]
  },
  {
   "cell_type": "markdown",
   "metadata": {},
   "source": [
    "## RFM"
   ]
  },
  {
   "cell_type": "markdown",
   "metadata": {},
   "source": [
    "### Pie Plot"
   ]
  },
  {
   "cell_type": "code",
   "execution_count": 8,
   "metadata": {
    "ExecuteTime": {
     "end_time": "2019-09-03T20:37:48.035497Z",
     "start_time": "2019-09-03T20:37:47.228493Z"
    },
    "scrolled": true
   },
   "outputs": [
    {
     "data": {
      "image/png": "[encoded data removed]",
      "text/plain": [
       "<Figure size 432x288 with 1 Axes>"
      ]
     },
     "metadata": {},
     "output_type": "display_data"
    }
   ],
   "source": [
    "# nbi:hide_in\n",
    "pie_chart('categoria')"
   ]
  },
  {
   "cell_type": "markdown",
   "metadata": {},
   "source": [
    "###  Treemap"
   ]
  },
  {
   "cell_type": "code",
   "execution_count": 9,
   "metadata": {
    "ExecuteTime": {
     "end_time": "2019-09-03T20:37:48.524502Z",
     "start_time": "2019-09-03T20:37:48.041000Z"
    },
    "scrolled": false
   },
   "outputs": [
    {
     "data": {
      "image/png": "[encoded data removed]",
      "text/plain": [
       "<Figure size 960x640 with 1 Axes>"
      ]
     },
     "metadata": {
      "needs_background": "light"
     },
     "output_type": "display_data"
    }
   ],
   "source": [
    "treemap_categorias('categoria')"
   ]
  },
  {
   "cell_type": "markdown",
   "metadata": {},
   "source": [
    "## Churn"
   ]
  },
  {
   "cell_type": "markdown",
   "metadata": {},
   "source": [
    "### Pie Plot"
   ]
  },
  {
   "cell_type": "code",
   "execution_count": 10,
   "metadata": {
    "ExecuteTime": {
     "end_time": "2019-09-03T20:37:48.843006Z",
     "start_time": "2019-09-03T20:37:48.530003Z"
    },
    "scrolled": true
   },
   "outputs": [
    {
     "data": {
      "image/png": "[encoded data removed]",
      "text/plain": [
       "<Figure size 432x288 with 1 Axes>"
      ]
     },
     "metadata": {},
     "output_type": "display_data"
    }
   ],
   "source": [
    "pie_chart('categoria_churn')"
   ]
  },
  {
   "cell_type": "markdown",
   "metadata": {},
   "source": [
    "### Treemap"
   ]
  },
  {
   "cell_type": "code",
   "execution_count": 11,
   "metadata": {
    "ExecuteTime": {
     "end_time": "2019-09-03T20:37:49.129517Z",
     "start_time": "2019-09-03T20:37:48.847505Z"
    },
    "scrolled": false
   },
   "outputs": [
    {
     "data": {
      "image/png": "[encoded data removed]",
      "text/plain": [
       "<Figure size 960x640 with 1 Axes>"
      ]
     },
     "metadata": {
      "needs_background": "light"
     },
     "output_type": "display_data"
    }
   ],
   "source": [
    "treemap_categorias('categoria_churn')"
   ]
  },
  {
   "cell_type": "markdown",
   "metadata": {},
   "source": [
    "# Distribuição das Variáveis"
   ]
  },
  {
   "cell_type": "code",
   "execution_count": 12,
   "metadata": {
    "ExecuteTime": {
     "end_time": "2019-09-03T20:37:49.263507Z",
     "start_time": "2019-09-03T20:37:49.134007Z"
    }
   },
   "outputs": [],
   "source": [
    "# nbi:hide_in\n",
    "def density_plot_var():\n",
    "    # - Desenha Plot\n",
    "    plt.figure(figsize=(16, 10), dpi=80)\n",
    "    try:\n",
    "        sns.kdeplot(df.loc[df['categoria'] == menu_distri.value,\n",
    "                           menu_rfm.value], shade=True, color=\"red\", label=\"Distribuição\", alpha=.7, shade_lowest=True)\n",
    "    except:\n",
    "        sns.kdeplot(df.replace([np.inf, -np.inf], np.nan).dropna().loc[df['categoria'] == menu_distri.value,\n",
    "                                                                       menu_rfm.value], shade=True, color=\"dodgerblue\", label=\"Distribuição\", alpha=.7)\n",
    "\n",
    "    # - Decoração\n",
    "    plt.title('Distribuição '+menu_distri.value, fontsize=22)\n",
    "    plt.legend()\n",
    "    plt.show()\n",
    "    return\n",
    "\n",
    "\n",
    "def on_button_clicked(_):\n",
    "    # - Click do botão\n",
    "    # Função de linkagem\n",
    "    with out_distri:\n",
    "        # - Caso o botão seja apertado\n",
    "        clear_output()\n",
    "        density_plot_var()\n",
    "\n",
    "\n",
    "# ---------- Menu Distribuição ----------\n",
    "# - Menu com as categorias RFM\n",
    "menu_distri = widgets.Dropdown(\n",
    "    options=list(df.categoria.unique()),\n",
    "    value='Vip',\n",
    "    description='Categoria:')\n",
    "\n",
    "# - Menu com as variáveis que compõem RFML\n",
    "menu_rfm = widgets.Dropdown(\n",
    "    options=['Frequency', 'Recency', 'Monetary', 'Longevity', 'churn'],\n",
    "    value='Frequency',\n",
    "    description='Distribuição:')\n",
    "\n",
    "\n",
    "button_distri = widgets.Button(description='Gera Distribuição')\n",
    "out_distri = widgets.Output()\n",
    "\n",
    "# - Linkando o botão e a função utilizando o método \"button's\"\n",
    "button_distri.on_click(on_button_clicked)\n",
    "\n",
    "# - Cria box que contém os dois. Mostrar o botão e o output juntos\n",
    "box_distri = widgets.VBox([menu_distri, menu_rfm, button_distri, out_distri])"
   ]
  },
  {
   "cell_type": "code",
   "execution_count": 13,
   "metadata": {
    "ExecuteTime": {
     "end_time": "2019-09-03T20:37:49.287515Z",
     "start_time": "2019-09-03T20:37:49.268013Z"
    },
    "scrolled": false
   },
   "outputs": [
    {
     "data": {
      "application/vnd.jupyter.widget-view+json": {
       "model_id": "02d6c5a6a60040c8abbf4de3e0275f67",
       "version_major": 2,
       "version_minor": 0
      },
      "text/plain": [
       "VBox(children=(Dropdown(description='Categoria:', options=('Vip', 'Distante Fiel Valioso', 'Destaque', 'Distan…"
      ]
     },
     "metadata": {},
     "output_type": "display_data"
    }
   ],
   "source": [
    "box_distri"
   ]
  },
  {
   "cell_type": "markdown",
   "metadata": {},
   "source": [
    "# Categorias 2D"
   ]
  },
  {
   "cell_type": "code",
   "execution_count": 14,
   "metadata": {
    "ExecuteTime": {
     "end_time": "2019-09-03T20:37:49.453021Z",
     "start_time": "2019-09-03T20:37:49.292509Z"
    }
   },
   "outputs": [],
   "source": [
    "# nbi:hide_in\n",
    "def density_plot_2d():\n",
    "    # - Desenha Plot\n",
    "    plt.figure(figsize=(16, 10), dpi=80)\n",
    "    try:\n",
    "        sns.kdeplot(df.loc[df['categoria'] == menu_distri_2d.value,\n",
    "                           menu_rfm_2d_var1.value], df.loc[df['categoria'] == menu_distri_2d.value,\n",
    "                                                           menu_rfm_2d_var2.value] , shade=True, color=\"red\", label=\"Distribuição\", alpha=.7, shade_lowest=True)\n",
    "    except:\n",
    "        pass\n",
    "\n",
    "    # - Decoração\n",
    "    plt.title('Distribuição '+menu_distri_2d.value, fontsize=22)\n",
    "    plt.legend()\n",
    "    plt.show()\n",
    "    return\n",
    "\n",
    "\n",
    "def on_button_clicked(_):\n",
    "    # - Click do botão\n",
    "    # Função de linkagem\n",
    "    with out_distri_2d:\n",
    "        # - Caso o botão seja apertado\n",
    "        clear_output()\n",
    "        density_plot_2d()\n",
    "\n",
    "\n",
    "# ---------- Menu Distribuição ----------\n",
    "# - Menu com as categorias RFM\n",
    "menu_distri_2d = widgets.Dropdown(\n",
    "    options=list(df.categoria.unique()),\n",
    "    value='Vip',\n",
    "    description='Categoria:')\n",
    "\n",
    "# - Menu com as variáveis que compõem RFML\n",
    "menu_rfm_2d_var1 = widgets.Dropdown(\n",
    "    options=['Frequency', 'Recency', 'Monetary', 'Longevity'],\n",
    "    value='Frequency',\n",
    "    description='Distribuição:')\n",
    "\n",
    "# - Menu com as variáveis que compõem RFML\n",
    "menu_rfm_2d_var2 = widgets.Dropdown(\n",
    "    options=['Frequency', 'Recency', 'Monetary', 'Longevity'],\n",
    "    value='Recency',\n",
    "    description='Distribuição:')\n",
    "\n",
    "\n",
    "button_distri_2d = widgets.Button(description='Gera Distribuição')\n",
    "out_distri_2d = widgets.Output()\n",
    "\n",
    "# - Linkando o botão e a função utilizando o método \"button's\"\n",
    "button_distri_2d.on_click(on_button_clicked)\n",
    "\n",
    "# - Cria box que contém os dois. Mostrar o botão e o output juntos\n",
    "box_distri_2d = widgets.VBox(\n",
    "    [menu_distri_2d, menu_rfm_2d_var1, menu_rfm_2d_var2, button_distri_2d, out_distri_2d])"
   ]
  },
  {
   "cell_type": "code",
   "execution_count": 15,
   "metadata": {
    "ExecuteTime": {
     "end_time": "2019-09-03T20:37:49.476513Z",
     "start_time": "2019-09-03T20:37:49.459012Z"
    }
   },
   "outputs": [
    {
     "data": {
      "application/vnd.jupyter.widget-view+json": {
       "model_id": "b2c569b269f74d80955084f64a662167",
       "version_major": 2,
       "version_minor": 0
      },
      "text/plain": [
       "VBox(children=(Dropdown(description='Categoria:', options=('Vip', 'Distante Fiel Valioso', 'Destaque', 'Distan…"
      ]
     },
     "metadata": {},
     "output_type": "display_data"
    }
   ],
   "source": [
    "box_distri_2d"
   ]
  },
  {
   "cell_type": "markdown",
   "metadata": {},
   "source": [
    "# Categorias 3D"
   ]
  },
  {
   "cell_type": "code",
   "execution_count": 16,
   "metadata": {
    "ExecuteTime": {
     "end_time": "2019-09-03T20:37:49.485510Z",
     "start_time": "2019-09-03T20:37:49.480512Z"
    }
   },
   "outputs": [],
   "source": [
    "# nbi:hide_in\n",
    "#@interact\n",
    "#def show_articles_more_than(column=['Monetary','Frequency','Recency','Longevity'], x=(10,4000,10)):\n",
    "#    return df.loc[df[column] > x]"
   ]
  },
  {
   "cell_type": "code",
   "execution_count": 26,
   "metadata": {
    "ExecuteTime": {
     "end_time": "2019-09-03T20:51:24.337918Z",
     "start_time": "2019-09-03T20:51:24.267917Z"
    }
   },
   "outputs": [],
   "source": [
    "# nbi:hide_in\n",
    "from mpl_toolkits.mplot3d import Axes3D\n",
    "\n",
    "# ---------- Plot 3D Categorias ----------\n",
    "\n",
    "\n",
    "def plot_3d():\n",
    "    fig = plt.figure(figsize=(15, 10))\n",
    "    dx = fig.add_subplot(111, projection='3d')\n",
    "\n",
    "    dx.scatter(df[df.categoria == menu_3d.value].Recency,\n",
    "               df[df.categoria == menu_3d.value].Frequency,\n",
    "               df[df.categoria == menu_3d.value].Monetary,\n",
    "               c='red',\n",
    "               label='Cluster ' + menu_3d.value,\n",
    "               s=50)\n",
    "\n",
    "    dx.set_title('Clusters dos Clientes')\n",
    "    dx.set_xlabel('Recency')\n",
    "    dx.set_ylabel('Frequency')\n",
    "    dx.set_zlabel('Monetary')\n",
    "    dx.legend()\n",
    "    plt.show()\n",
    "    return\n",
    "\n",
    "\n",
    "def on_button_clicked(_):\n",
    "    # - Click do botão\n",
    "    # Função de linkagem\n",
    "    with out_3d:\n",
    "        # - Caso o botão seja apertado\n",
    "        clear_output(wait=True)\n",
    "        plot_3d()\n",
    "\n",
    "\n",
    "# ---------- Menu 3D ----------\n",
    "menu_3d = widgets.Dropdown(\n",
    "    options=list(df.categoria.unique()),\n",
    "    value='Destaque',\n",
    "    description='Categoria:')\n",
    "\n",
    "\n",
    "button_3d = widgets.Button(description='Plot 3D por Categoria')\n",
    "out_3d = widgets.Output()\n",
    "\n",
    "# - Linkando o botão e a função utilizando o método \"button's\"\n",
    "button_3d.on_click(on_button_clicked)\n",
    "\n",
    "# - Cria box que contém os dois. Mostrar o botão e o output juntos\n",
    "box_3d = widgets.VBox([menu_3d, button_3d, out_3d])"
   ]
  },
  {
   "cell_type": "code",
   "execution_count": 27,
   "metadata": {
    "ExecuteTime": {
     "end_time": "2019-09-03T20:51:25.441021Z",
     "start_time": "2019-09-03T20:51:25.429521Z"
    },
    "scrolled": false
   },
   "outputs": [
    {
     "data": {
      "application/vnd.jupyter.widget-view+json": {
       "model_id": "18355e418556406c8c23da3fcdbf4104",
       "version_major": 2,
       "version_minor": 0
      },
      "text/plain": [
       "VBox(children=(Dropdown(description='Categoria:', index=2, options=('Vip', 'Distante Fiel Valioso', 'Destaque'…"
      ]
     },
     "metadata": {},
     "output_type": "display_data"
    }
   ],
   "source": [
    "# nbi:hide_in\n",
    "box_3d"
   ]
  }
 ],
 "metadata": {
  "hide_input": false,
  "kernelspec": {
   "display_name": "Python 3",
   "language": "python",
   "name": "python3"
  },
  "language_info": {
   "codemirror_mode": {
    "name": "ipython",
    "version": 3
   },
   "file_extension": ".py",
   "mimetype": "text/x-python",
   "name": "python",
   "nbconvert_exporter": "python",
   "pygments_lexer": "ipython3",
   "version": "3.7.3"
  },
  "toc": {
   "base_numbering": 1,
   "nav_menu": {},
   "number_sections": true,
   "sideBar": true,
   "skip_h1_title": false,
   "title_cell": "Table of Contents",
   "title_sidebar": "Contents",
   "toc_cell": false,
   "toc_position": {},
   "toc_section_display": true,
   "toc_window_display": true
  }
 },
 "nbformat": 4,
 "nbformat_minor": 2
}
